{
 "cells": [
  {
   "cell_type": "code",
   "execution_count": 75,
   "metadata": {},
   "outputs": [],
   "source": [
    "import pandas as pd\n",
    "import numpy as np\n",
    "import matplotlib\n",
    "import matplotlib.pyplot as plt\n",
    "from db import db\n",
    "%matplotlib inline\n",
    "%matplotlib notebook"
   ]
  },
  {
   "cell_type": "code",
   "execution_count": null,
   "metadata": {},
   "outputs": [],
   "source": []
  },
  {
   "cell_type": "code",
   "execution_count": 58,
   "metadata": {},
   "outputs": [],
   "source": [
    "df = pd.read_sql(\" select endtime, close, open - close as diff from ohlc where interval = 60 order by endtime asc\", db.engine)"
   ]
  },
  {
   "cell_type": "code",
   "execution_count": 59,
   "metadata": {},
   "outputs": [],
   "source": [
    "df['endtime'] = pd.to_datetime(df['endtime'], unit='s')"
   ]
  },
  {
   "cell_type": "code",
   "execution_count": 60,
   "metadata": {},
   "outputs": [
    {
     "data": {
      "text/html": [
       "<div>\n",
       "<style scoped>\n",
       "    .dataframe tbody tr th:only-of-type {\n",
       "        vertical-align: middle;\n",
       "    }\n",
       "\n",
       "    .dataframe tbody tr th {\n",
       "        vertical-align: top;\n",
       "    }\n",
       "\n",
       "    .dataframe thead th {\n",
       "        text-align: right;\n",
       "    }\n",
       "</style>\n",
       "<table border=\"1\" class=\"dataframe\">\n",
       "  <thead>\n",
       "    <tr style=\"text-align: right;\">\n",
       "      <th></th>\n",
       "      <th>endtime</th>\n",
       "      <th>close</th>\n",
       "      <th>diff</th>\n",
       "    </tr>\n",
       "  </thead>\n",
       "  <tbody>\n",
       "    <tr>\n",
       "      <th>0</th>\n",
       "      <td>2019-06-21 09:00:00</td>\n",
       "      <td>8613.7</td>\n",
       "      <td>11.0</td>\n",
       "    </tr>\n",
       "    <tr>\n",
       "      <th>1</th>\n",
       "      <td>2019-06-21 10:00:00</td>\n",
       "      <td>8671.7</td>\n",
       "      <td>-58.0</td>\n",
       "    </tr>\n",
       "    <tr>\n",
       "      <th>2</th>\n",
       "      <td>2019-06-21 11:00:00</td>\n",
       "      <td>8662.5</td>\n",
       "      <td>9.2</td>\n",
       "    </tr>\n",
       "    <tr>\n",
       "      <th>3</th>\n",
       "      <td>2019-06-21 12:00:00</td>\n",
       "      <td>8713.5</td>\n",
       "      <td>-51.0</td>\n",
       "    </tr>\n",
       "    <tr>\n",
       "      <th>4</th>\n",
       "      <td>2019-06-21 13:00:00</td>\n",
       "      <td>8707.9</td>\n",
       "      <td>4.7</td>\n",
       "    </tr>\n",
       "  </tbody>\n",
       "</table>\n",
       "</div>"
      ],
      "text/plain": [
       "              endtime   close  diff\n",
       "0 2019-06-21 09:00:00  8613.7  11.0\n",
       "1 2019-06-21 10:00:00  8671.7 -58.0\n",
       "2 2019-06-21 11:00:00  8662.5   9.2\n",
       "3 2019-06-21 12:00:00  8713.5 -51.0\n",
       "4 2019-06-21 13:00:00  8707.9   4.7"
      ]
     },
     "execution_count": 60,
     "metadata": {},
     "output_type": "execute_result"
    }
   ],
   "source": [
    "df.head()"
   ]
  },
  {
   "cell_type": "code",
   "execution_count": 73,
   "metadata": {},
   "outputs": [],
   "source": [
    "import matplotlib.dates as mdates"
   ]
  },
  {
   "cell_type": "code",
   "execution_count": 82,
   "metadata": {},
   "outputs": [
    {
     "data": {
      "text/html": [
       "<div>\n",
       "<style scoped>\n",
       "    .dataframe tbody tr th:only-of-type {\n",
       "        vertical-align: middle;\n",
       "    }\n",
       "\n",
       "    .dataframe tbody tr th {\n",
       "        vertical-align: top;\n",
       "    }\n",
       "\n",
       "    .dataframe thead th {\n",
       "        text-align: right;\n",
       "    }\n",
       "</style>\n",
       "<table border=\"1\" class=\"dataframe\">\n",
       "  <thead>\n",
       "    <tr style=\"text-align: right;\">\n",
       "      <th></th>\n",
       "      <th>endtime</th>\n",
       "      <th>close</th>\n",
       "      <th>diff</th>\n",
       "    </tr>\n",
       "  </thead>\n",
       "  <tbody>\n",
       "    <tr>\n",
       "      <th>0</th>\n",
       "      <td>2019-06-21 09:00:00</td>\n",
       "      <td>8613.7</td>\n",
       "      <td>11.0</td>\n",
       "    </tr>\n",
       "    <tr>\n",
       "      <th>1</th>\n",
       "      <td>2019-06-21 10:00:00</td>\n",
       "      <td>8671.7</td>\n",
       "      <td>-58.0</td>\n",
       "    </tr>\n",
       "    <tr>\n",
       "      <th>2</th>\n",
       "      <td>2019-06-21 11:00:00</td>\n",
       "      <td>8662.5</td>\n",
       "      <td>9.2</td>\n",
       "    </tr>\n",
       "    <tr>\n",
       "      <th>3</th>\n",
       "      <td>2019-06-21 12:00:00</td>\n",
       "      <td>8713.5</td>\n",
       "      <td>-51.0</td>\n",
       "    </tr>\n",
       "    <tr>\n",
       "      <th>4</th>\n",
       "      <td>2019-06-21 13:00:00</td>\n",
       "      <td>8707.9</td>\n",
       "      <td>4.7</td>\n",
       "    </tr>\n",
       "  </tbody>\n",
       "</table>\n",
       "</div>"
      ],
      "text/plain": [
       "              endtime   close  diff\n",
       "0 2019-06-21 09:00:00  8613.7  11.0\n",
       "1 2019-06-21 10:00:00  8671.7 -58.0\n",
       "2 2019-06-21 11:00:00  8662.5   9.2\n",
       "3 2019-06-21 12:00:00  8713.5 -51.0\n",
       "4 2019-06-21 13:00:00  8707.9   4.7"
      ]
     },
     "execution_count": 82,
     "metadata": {},
     "output_type": "execute_result"
    }
   ],
   "source": [
    "df.head()"
   ]
  },
  {
   "cell_type": "code",
   "execution_count": 83,
   "metadata": {},
   "outputs": [
    {
     "name": "stdout",
     "output_type": "stream",
     "text": [
      "Help on function close in module matplotlib.pyplot:\n",
      "\n",
      "close(fig=None)\n",
      "    Close a figure window.\n",
      "    \n",
      "    Parameters\n",
      "    ----------\n",
      "    fig : None or int or str or `.Figure`\n",
      "        The figure to close. There are a number of ways to specify this:\n",
      "    \n",
      "        - *None*: the current figure\n",
      "        - `.Figure`: the given `.Figure` instance\n",
      "        - ``int``: a figure number\n",
      "        - ``str``: a figure name\n",
      "        - 'all': all figures\n",
      "\n"
     ]
    }
   ],
   "source": [
    "help(plt.close)"
   ]
  },
  {
   "cell_type": "code",
   "execution_count": 92,
   "metadata": {},
   "outputs": [],
   "source": [
    "plt.close('all')"
   ]
  },
  {
   "cell_type": "code",
   "execution_count": 115,
   "metadata": {},
   "outputs": [
    {
     "data": {
      "text/plain": [
       "[<matplotlib.lines.Line2D at 0x7fdcc0528ba8>]"
      ]
     },
     "execution_count": 115,
     "metadata": {},
     "output_type": "execute_result"
    },
    {
     "data": {
      "image/png": "[encoded data removed]",
      "text/plain": [
       "<Figure size 432x288 with 1 Axes>"
      ]
     },
     "metadata": {
      "needs_background": "light"
     },
     "output_type": "display_data"
    }
   ],
   "source": [
    "fig, ax = plt.subplots(1)\n",
    "xdata = df['endtime'][-160::]\n",
    "ydata = df['close'][-160::]\n",
    "plt.xticks(rotation=90)\n",
    "ax.plot(xdata, ydata)\n"
   ]
  },
  {
   "cell_type": "code",
   "execution_count": 117,
   "metadata": {},
   "outputs": [
    {
     "data": {
      "text/html": [
       "<div>\n",
       "<style scoped>\n",
       "    .dataframe tbody tr th:only-of-type {\n",
       "        vertical-align: middle;\n",
       "    }\n",
       "\n",
       "    .dataframe tbody tr th {\n",
       "        vertical-align: top;\n",
       "    }\n",
       "\n",
       "    .dataframe thead th {\n",
       "        text-align: right;\n",
       "    }\n",
       "</style>\n",
       "<table border=\"1\" class=\"dataframe\">\n",
       "  <thead>\n",
       "    <tr style=\"text-align: right;\">\n",
       "      <th></th>\n",
       "      <th>endtime</th>\n",
       "      <th>close</th>\n",
       "      <th>diff</th>\n",
       "    </tr>\n",
       "  </thead>\n",
       "  <tbody>\n",
       "    <tr>\n",
       "      <th>697</th>\n",
       "      <td>2019-07-20 10:00:00</td>\n",
       "      <td>9449.7</td>\n",
       "      <td>-19.0</td>\n",
       "    </tr>\n",
       "    <tr>\n",
       "      <th>698</th>\n",
       "      <td>2019-07-20 11:00:00</td>\n",
       "      <td>9451.9</td>\n",
       "      <td>-2.2</td>\n",
       "    </tr>\n",
       "    <tr>\n",
       "      <th>699</th>\n",
       "      <td>2019-07-20 12:00:00</td>\n",
       "      <td>9443.7</td>\n",
       "      <td>8.2</td>\n",
       "    </tr>\n",
       "    <tr>\n",
       "      <th>700</th>\n",
       "      <td>2019-07-20 13:00:00</td>\n",
       "      <td>9387.2</td>\n",
       "      <td>56.5</td>\n",
       "    </tr>\n",
       "    <tr>\n",
       "      <th>701</th>\n",
       "      <td>2019-07-20 14:00:00</td>\n",
       "      <td>9400.2</td>\n",
       "      <td>-13.0</td>\n",
       "    </tr>\n",
       "    <tr>\n",
       "      <th>702</th>\n",
       "      <td>2019-07-20 15:00:00</td>\n",
       "      <td>9472.7</td>\n",
       "      <td>-69.9</td>\n",
       "    </tr>\n",
       "    <tr>\n",
       "      <th>703</th>\n",
       "      <td>2019-07-20 16:00:00</td>\n",
       "      <td>9498.4</td>\n",
       "      <td>-25.7</td>\n",
       "    </tr>\n",
       "    <tr>\n",
       "      <th>704</th>\n",
       "      <td>2019-07-20 17:00:00</td>\n",
       "      <td>9649.0</td>\n",
       "      <td>-150.6</td>\n",
       "    </tr>\n",
       "    <tr>\n",
       "      <th>705</th>\n",
       "      <td>2019-07-20 18:00:00</td>\n",
       "      <td>9733.2</td>\n",
       "      <td>-84.2</td>\n",
       "    </tr>\n",
       "    <tr>\n",
       "      <th>706</th>\n",
       "      <td>2019-07-20 19:00:00</td>\n",
       "      <td>9762.2</td>\n",
       "      <td>-29.0</td>\n",
       "    </tr>\n",
       "    <tr>\n",
       "      <th>707</th>\n",
       "      <td>2019-07-20 20:00:00</td>\n",
       "      <td>9750.7</td>\n",
       "      <td>11.5</td>\n",
       "    </tr>\n",
       "    <tr>\n",
       "      <th>708</th>\n",
       "      <td>2019-07-20 21:00:00</td>\n",
       "      <td>9760.6</td>\n",
       "      <td>-9.9</td>\n",
       "    </tr>\n",
       "    <tr>\n",
       "      <th>709</th>\n",
       "      <td>2019-07-20 22:00:00</td>\n",
       "      <td>9781.4</td>\n",
       "      <td>-20.6</td>\n",
       "    </tr>\n",
       "    <tr>\n",
       "      <th>710</th>\n",
       "      <td>2019-07-20 23:00:00</td>\n",
       "      <td>9818.0</td>\n",
       "      <td>-36.6</td>\n",
       "    </tr>\n",
       "    <tr>\n",
       "      <th>711</th>\n",
       "      <td>2019-07-21 00:00:00</td>\n",
       "      <td>9607.5</td>\n",
       "      <td>210.5</td>\n",
       "    </tr>\n",
       "    <tr>\n",
       "      <th>712</th>\n",
       "      <td>2019-07-21 01:00:00</td>\n",
       "      <td>9645.2</td>\n",
       "      <td>-37.7</td>\n",
       "    </tr>\n",
       "    <tr>\n",
       "      <th>713</th>\n",
       "      <td>2019-07-21 02:00:00</td>\n",
       "      <td>9642.3</td>\n",
       "      <td>0.5</td>\n",
       "    </tr>\n",
       "    <tr>\n",
       "      <th>714</th>\n",
       "      <td>2019-07-21 03:00:00</td>\n",
       "      <td>9524.0</td>\n",
       "      <td>118.3</td>\n",
       "    </tr>\n",
       "    <tr>\n",
       "      <th>715</th>\n",
       "      <td>2019-07-21 04:00:00</td>\n",
       "      <td>9458.1</td>\n",
       "      <td>63.1</td>\n",
       "    </tr>\n",
       "    <tr>\n",
       "      <th>716</th>\n",
       "      <td>2019-07-21 05:00:00</td>\n",
       "      <td>9499.2</td>\n",
       "      <td>-44.9</td>\n",
       "    </tr>\n",
       "    <tr>\n",
       "      <th>717</th>\n",
       "      <td>2019-07-21 06:00:00</td>\n",
       "      <td>9454.0</td>\n",
       "      <td>43.5</td>\n",
       "    </tr>\n",
       "    <tr>\n",
       "      <th>718</th>\n",
       "      <td>2019-07-21 07:00:00</td>\n",
       "      <td>9468.6</td>\n",
       "      <td>-14.6</td>\n",
       "    </tr>\n",
       "    <tr>\n",
       "      <th>719</th>\n",
       "      <td>2019-07-21 08:00:00</td>\n",
       "      <td>9468.4</td>\n",
       "      <td>0.8</td>\n",
       "    </tr>\n",
       "    <tr>\n",
       "      <th>720</th>\n",
       "      <td>2019-07-21 09:00:00</td>\n",
       "      <td>9538.6</td>\n",
       "      <td>-70.2</td>\n",
       "    </tr>\n",
       "    <tr>\n",
       "      <th>721</th>\n",
       "      <td>2019-07-21 10:00:00</td>\n",
       "      <td>9556.5</td>\n",
       "      <td>-18.6</td>\n",
       "    </tr>\n",
       "  </tbody>\n",
       "</table>\n",
       "</div>"
      ],
      "text/plain": [
       "                endtime   close   diff\n",
       "697 2019-07-20 10:00:00  9449.7  -19.0\n",
       "698 2019-07-20 11:00:00  9451.9   -2.2\n",
       "699 2019-07-20 12:00:00  9443.7    8.2\n",
       "700 2019-07-20 13:00:00  9387.2   56.5\n",
       "701 2019-07-20 14:00:00  9400.2  -13.0\n",
       "702 2019-07-20 15:00:00  9472.7  -69.9\n",
       "703 2019-07-20 16:00:00  9498.4  -25.7\n",
       "704 2019-07-20 17:00:00  9649.0 -150.6\n",
       "705 2019-07-20 18:00:00  9733.2  -84.2\n",
       "706 2019-07-20 19:00:00  9762.2  -29.0\n",
       "707 2019-07-20 20:00:00  9750.7   11.5\n",
       "708 2019-07-20 21:00:00  9760.6   -9.9\n",
       "709 2019-07-20 22:00:00  9781.4  -20.6\n",
       "710 2019-07-20 23:00:00  9818.0  -36.6\n",
       "711 2019-07-21 00:00:00  9607.5  210.5\n",
       "712 2019-07-21 01:00:00  9645.2  -37.7\n",
       "713 2019-07-21 02:00:00  9642.3    0.5\n",
       "714 2019-07-21 03:00:00  9524.0  118.3\n",
       "715 2019-07-21 04:00:00  9458.1   63.1\n",
       "716 2019-07-21 05:00:00  9499.2  -44.9\n",
       "717 2019-07-21 06:00:00  9454.0   43.5\n",
       "718 2019-07-21 07:00:00  9468.6  -14.6\n",
       "719 2019-07-21 08:00:00  9468.4    0.8\n",
       "720 2019-07-21 09:00:00  9538.6  -70.2\n",
       "721 2019-07-21 10:00:00  9556.5  -18.6"
      ]
     },
     "execution_count": 117,
     "metadata": {},
     "output_type": "execute_result"
    }
   ],
   "source": [
    "df.tail(25)"
   ]
  },
  {
   "cell_type": "code",
   "execution_count": null,
   "metadata": {},
   "outputs": [],
   "source": []
  },
  {
   "cell_type": "code",
   "execution_count": null,
   "metadata": {},
   "outputs": [],
   "source": []
  },
  {
   "cell_type": "code",
   "execution_count": null,
   "metadata": {},
   "outputs": [],
   "source": []
  }
 ],
 "metadata": {
  "kernelspec": {
   "display_name": "Python 3",
   "language": "python",
   "name": "python3"
  },
  "language_info": {
   "codemirror_mode": {
    "name": "ipython",
    "version": 3
   },
   "file_extension": ".py",
   "mimetype": "text/x-python",
   "name": "python",
   "nbconvert_exporter": "python",
   "pygments_lexer": "ipython3",
   "version": "3.7.3"
  }
 },
 "nbformat": 4,
 "nbformat_minor": 2
}
